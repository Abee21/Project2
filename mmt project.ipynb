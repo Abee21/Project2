{
 "cells": [
  {
   "cell_type": "code",
   "execution_count": 1,
   "metadata": {},
   "outputs": [],
   "source": [
    "from time import sleep\n",
    "from selenium import webdriver\n",
    "browser=webdriver.Chrome(r\"C:\\Users\\user\\anaconda3\\chromedriver.exe\")\n",
    "page=browser.get('https://www.makemytrip.com/hotels/budget-hotels-in-mumbai.html')"
   ]
  },
  {
   "cell_type": "code",
   "execution_count": 45,
   "metadata": {},
   "outputs": [],
   "source": [
    "hotel_name=browser.find_elements_by_xpath('//*[@id=\"hlistpg_hotel_name\"]')\n",
    "hotel_prices=browser.find_elements_by_xpath('//*[@id=\"hlistpg_hotel_shown_price\"]')\n",
    "hotel_rat=browser.find_elements_by_xpath('//*[@id=\"hlistpg_hotel_user_rating\"]/div')\n",
    "hotel_loc=browser.find_elements_by_xpath('//*[@id=\"Listing_hotel_505\"]/a/div/div[1]/div[2]/div[1]/div[1]/p[2]')"
   ]
  },
  {
   "cell_type": "code",
   "execution_count": 46,
   "metadata": {},
   "outputs": [
    {
     "data": {
      "text/plain": [
       "{'hotel_name': [], 'hotel_prices': [], 'hotel_RATING': [], 'hotel_loc': []}"
      ]
     },
     "execution_count": 46,
     "metadata": {},
     "output_type": "execute_result"
    }
   ],
   "source": [
    "collection={}\n",
    "collection['hotel_name']=[]\n",
    "collection['hotel_prices']=[]\n",
    "collection['hotel_RATING']=[]\n",
    "collection['hotel_loc']=[]\n",
    "collection\n"
   ]
  },
  {
   "cell_type": "code",
   "execution_count": 47,
   "metadata": {},
   "outputs": [
    {
     "data": {
      "text/plain": [
       "550"
      ]
     },
     "execution_count": 47,
     "metadata": {},
     "output_type": "execute_result"
    }
   ],
   "source": [
    "for price in hotel_prices:\n",
    "    collection['hotel_prices'].append(price.text)\n",
    "len(collection['hotel_prices'])"
   ]
  },
  {
   "cell_type": "code",
   "execution_count": 48,
   "metadata": {},
   "outputs": [
    {
     "data": {
      "text/plain": [
       "550"
      ]
     },
     "execution_count": 48,
     "metadata": {},
     "output_type": "execute_result"
    }
   ],
   "source": [
    "for pd in hotel_name:\n",
    "    collection['hotel_name'].append(pd.text)\n",
    "    \n",
    "len(collection['hotel_name'])"
   ]
  },
  {
   "cell_type": "code",
   "execution_count": 49,
   "metadata": {},
   "outputs": [
    {
     "data": {
      "text/plain": [
       "541"
      ]
     },
     "execution_count": 49,
     "metadata": {},
     "output_type": "execute_result"
    }
   ],
   "source": [
    "for price in hotel_rat:\n",
    "    collection['hotel_RATING'].append(price.text)\n",
    "len(collection['hotel_RATING'])"
   ]
  },
  {
   "cell_type": "code",
   "execution_count": 50,
   "metadata": {},
   "outputs": [
    {
     "data": {
      "text/plain": [
       "1"
      ]
     },
     "execution_count": 50,
     "metadata": {},
     "output_type": "execute_result"
    }
   ],
   "source": [
    "for price in hotel_loc:\n",
    "    collection['hotel_loc'].append(price.text)\n",
    "len(collection['hotel_loc'])"
   ]
  },
  {
   "cell_type": "code",
   "execution_count": 52,
   "metadata": {},
   "outputs": [],
   "source": [
    "import pandas as pd\n",
    "df=pd.DataFrame({i:pd.Series(value) for i, value in enumerate(collection)})\n",
    "df.to_csv(\"hotel_data_new2.csv\",mode=\"a\",encoding=\"utf-8-sig\")"
   ]
  },
  {
   "cell_type": "code",
   "execution_count": null,
   "metadata": {},
   "outputs": [],
   "source": []
  }
 ],
 "metadata": {
  "kernelspec": {
   "display_name": "Python 3",
   "language": "python",
   "name": "python3"
  },
  "language_info": {
   "codemirror_mode": {
    "name": "ipython",
    "version": 3
   },
   "file_extension": ".py",
   "mimetype": "text/x-python",
   "name": "python",
   "nbconvert_exporter": "python",
   "pygments_lexer": "ipython3",
   "version": "3.7.6"
  }
 },
 "nbformat": 4,
 "nbformat_minor": 4
}
