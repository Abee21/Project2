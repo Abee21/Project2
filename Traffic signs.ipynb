{
 "cells": [
  {
   "cell_type": "code",
   "execution_count": null,
   "metadata": {},
   "outputs": [],
   "source": [
    "## Importing library "
   ]
  },
  {
   "cell_type": "code",
   "execution_count": 2,
   "metadata": {},
   "outputs": [],
   "source": [
    "import os\n",
    "import numpy as np\n",
    "import pandas as pd\n",
    "import matplotlib.pyplot as plt\n",
    "from PIL import Image\n",
    "import cv2\n",
    "import tensorflow as tf\n",
    "\n",
    "from tensorflow.keras.utils import to_categorical\n",
    "from tensorflow.keras.models import Sequential\n",
    "from tensorflow.keras.layers import Conv2D, MaxPool2D, Dense, Flatten, Dropout\n",
    "from sklearn.model_selection import train_test_split"
   ]
  },
  {
   "cell_type": "code",
   "execution_count": null,
   "metadata": {},
   "outputs": [],
   "source": [
    "## Loading data "
   ]
  },
  {
   "cell_type": "code",
   "execution_count": 3,
   "metadata": {},
   "outputs": [
    {
     "name": "stdout",
     "output_type": "stream",
     "text": [
      "['Dataset.zip', 'Meta', 'Meta.csv', 'Test', 'Test.csv', 'Train', 'Train.csv']\n"
     ]
    }
   ],
   "source": [
    "base_path = 'E:\\signal datasets'\n",
    "print(os.listdir(base_path))"
   ]
  },
  {
   "cell_type": "code",
   "execution_count": 4,
   "metadata": {},
   "outputs": [
    {
     "data": {
      "text/plain": [
       "43"
      ]
     },
     "execution_count": 4,
     "metadata": {},
     "output_type": "execute_result"
    }
   ],
   "source": [
    "## how man catagory we have for classification\n",
    "len(os.listdir(os.path.join(base_path, 'Train')))"
   ]
  },
  {
   "cell_type": "code",
   "execution_count": 5,
   "metadata": {},
   "outputs": [],
   "source": [
    "# Read in the image data and labels\n",
    "data = []\n",
    "labels = []\n",
    "number_of_classes = 43\n",
    "\n",
    "for i in range(number_of_classes):\n",
    "    path = os.path.join(base_path, 'Train', str(i))\n",
    "    images = os.listdir(path)\n",
    "    \n",
    "    for item in images:\n",
    "        try:\n",
    "            image = Image.open(path + '/' + item)\n",
    "            image = image.resize((30,30))\n",
    "            image = np.array(image)\n",
    "            data.append(image)\n",
    "            labels.append(i)\n",
    "        except:\n",
    "            print('Error loading the image file')\n",
    "data = np.array(data)\n",
    "labels = np.array(labels)"
   ]
  },
  {
   "cell_type": "code",
   "execution_count": 6,
   "metadata": {},
   "outputs": [
    {
     "name": "stdout",
     "output_type": "stream",
     "text": [
      "Shape of the data (39209, 30, 30, 3)\n",
      "Shape of the labels (39209,)\n"
     ]
    }
   ],
   "source": [
    "## Checking the shape of data and label\n",
    "print(f'Shape of the data {data.shape}')\n",
    "print(f'Shape of the labels {labels.shape}')"
   ]
  },
  {
   "cell_type": "code",
   "execution_count": 7,
   "metadata": {},
   "outputs": [
    {
     "name": "stdout",
     "output_type": "stream",
     "text": [
      "(31367, 30, 30, 3)\n",
      "(31367,)\n",
      "(7842, 30, 30, 3)\n",
      "(7842,)\n"
     ]
    }
   ],
   "source": [
    "# Split into training and validation data \n",
    "X_train, X_test, y_train, y_test = train_test_split(data, labels, test_size=0.2, random_state=42)\n",
    "# normalize the input data\n",
    "# Every digital image is formed by pixel having value in range 0~255. 0 is black and 255 is white. For colorful image,\n",
    "#It contains three maps: Red, Green and Blue, and all the pixel still in the range 0~255 every digital image is formed by pixel having value in range 0~255. 0 is black and 255 is white. For colorful image, \n",
    "#It contains three maps: Red, Green and Blue, and all the pixel still in the range 0~255.\n",
    "#Since 255 is the maximin pixel value. Rescale 1./255 is to transform every pixel value from range [0,255].\n",
    "X_train = X_train/255.\n",
    "X_test = X_test/255.\n",
    "\n",
    "print(X_train.shape)\n",
    "print(y_train.shape)\n",
    "print(X_test.shape)\n",
    "print(y_test.shape)"
   ]
  },
  {
   "cell_type": "code",
   "execution_count": 8,
   "metadata": {},
   "outputs": [],
   "source": [
    "# one hot encoding the labels for the training and validation labels\n",
    "y_train = to_categorical(y_train, number_of_classes)\n",
    "y_test = to_categorical(y_test, number_of_classes)"
   ]
  },
  {
   "cell_type": "code",
   "execution_count": 9,
   "metadata": {},
   "outputs": [],
   "source": [
    "# creating CNN model defination\n",
    "model = Sequential([\n",
    "    Conv2D(32, (3,3), activation='relu', input_shape=X_train.shape[1:]),\n",
    "    Conv2D(64, (3,3), activation='relu'),\n",
    "    MaxPool2D(2,2),\n",
    "    Dropout(0.3),\n",
    "    Conv2D(64, (3,3), activation='relu'),\n",
    "    MaxPool2D(2,2),\n",
    "    Dropout(0.3),\n",
    "    Conv2D(128, (3,3), activation='relu'),\n",
    "    MaxPool2D(2,2),\n",
    "    Dropout(0.3),\n",
    "    Flatten(),\n",
    "    Dense(128, activation='relu'),\n",
    "    Dropout(0.3),\n",
    "    Dense(number_of_classes, activation='softmax')\n",
    "])\n",
    "\n",
    "# Compiling the model\n",
    "metrics = ['accuracy',\n",
    "           tf.keras.metrics.Precision(name='precision'),\n",
    "           tf.keras.metrics.Recall(name='recall')\n",
    "          ]\n",
    "model.compile(loss='categorical_crossentropy', optimizer='adam', metrics=metrics)"
   ]
  },
  {
   "cell_type": "code",
   "execution_count": null,
   "metadata": {},
   "outputs": [],
   "source": []
  },
  {
   "cell_type": "code",
   "execution_count": 10,
   "metadata": {},
   "outputs": [
    {
     "name": "stdout",
     "output_type": "stream",
     "text": [
      "Train on 31367 samples, validate on 7842 samples\n",
      "Epoch 1/15\n",
      "31367/31367 [==============================] - 129s 4ms/sample - loss: 2.0125 - accuracy: 0.4158 - precision: 0.8349 - recall: 0.2746 - val_loss: 0.5072 - val_accuracy: 0.8798 - val_precision: 0.9616 - val_recall: 0.7257\n",
      "Epoch 2/15\n",
      "31367/31367 [==============================] - 130s 4ms/sample - loss: 0.5040 - accuracy: 0.8398 - precision: 0.9032 - recall: 0.7792 - val_loss: 0.1205 - val_accuracy: 0.9681 - val_precision: 0.9831 - val_recall: 0.9513\n",
      "Epoch 3/15\n",
      "31367/31367 [==============================] - 132s 4ms/sample - loss: 0.2833 - accuracy: 0.9098 - precision: 0.9388 - recall: 0.8840 - val_loss: 0.0704 - val_accuracy: 0.9830 - val_precision: 0.9905 - val_recall: 0.9718\n",
      "Epoch 4/15\n",
      "31367/31367 [==============================] - 133s 4ms/sample - loss: 0.2075 - accuracy: 0.9352 - precision: 0.9550 - recall: 0.9177 - val_loss: 0.0475 - val_accuracy: 0.9893 - val_precision: 0.9955 - val_recall: 0.9830\n",
      "Epoch 5/15\n",
      "31367/31367 [==============================] - 134s 4ms/sample - loss: 0.1628 - accuracy: 0.9512 - precision: 0.9648 - recall: 0.9389 - val_loss: 0.0360 - val_accuracy: 0.9909 - val_precision: 0.9950 - val_recall: 0.9862\n",
      "Epoch 6/15\n",
      "31367/31367 [==============================] - 138s 4ms/sample - loss: 0.1365 - accuracy: 0.9592 - precision: 0.9703 - recall: 0.9488 - val_loss: 0.0271 - val_accuracy: 0.9939 - val_precision: 0.9963 - val_recall: 0.9912\n",
      "Epoch 7/15\n",
      "31367/31367 [==============================] - 142s 5ms/sample - loss: 0.1246 - accuracy: 0.9617 - precision: 0.9722 - recall: 0.9540 - val_loss: 0.0202 - val_accuracy: 0.9954 - val_precision: 0.9968 - val_recall: 0.9940\n",
      "Epoch 8/15\n",
      "31367/31367 [==============================] - 147s 5ms/sample - loss: 0.1070 - accuracy: 0.9677 - precision: 0.9753 - recall: 0.9611 - val_loss: 0.0197 - val_accuracy: 0.9950 - val_precision: 0.9971 - val_recall: 0.9935\n",
      "Epoch 9/15\n",
      "31367/31367 [==============================] - 151s 5ms/sample - loss: 0.1069 - accuracy: 0.9682 - precision: 0.9760 - recall: 0.9617 - val_loss: 0.0201 - val_accuracy: 0.9957 - val_precision: 0.9973 - val_recall: 0.9943\n",
      "Epoch 10/15\n",
      "31367/31367 [==============================] - 153s 5ms/sample - loss: 0.0949 - accuracy: 0.9717 - precision: 0.9780 - recall: 0.9667 - val_loss: 0.0183 - val_accuracy: 0.9958 - val_precision: 0.9978 - val_recall: 0.9944\n",
      "Epoch 11/15\n",
      "31367/31367 [==============================] - 150s 5ms/sample - loss: 0.0966 - accuracy: 0.9722 - precision: 0.9786 - recall: 0.9669 - val_loss: 0.0164 - val_accuracy: 0.9960 - val_precision: 0.9980 - val_recall: 0.9943\n",
      "Epoch 12/15\n",
      "31367/31367 [==============================] - 153s 5ms/sample - loss: 0.0851 - accuracy: 0.9744 - precision: 0.9796 - recall: 0.9701 - val_loss: 0.0192 - val_accuracy: 0.9954 - val_precision: 0.9964 - val_recall: 0.9938\n",
      "Epoch 13/15\n",
      "31367/31367 [==============================] - 151s 5ms/sample - loss: 0.0795 - accuracy: 0.9752 - precision: 0.9809 - recall: 0.9709 - val_loss: 0.0122 - val_accuracy: 0.9972 - val_precision: 0.9983 - val_recall: 0.9959\n",
      "Epoch 14/15\n",
      "31367/31367 [==============================] - 152s 5ms/sample - loss: 0.0778 - accuracy: 0.9774 - precision: 0.9822 - recall: 0.9737 - val_loss: 0.0126 - val_accuracy: 0.9967 - val_precision: 0.9976 - val_recall: 0.9960\n",
      "Epoch 15/15\n",
      "31367/31367 [==============================] - 151s 5ms/sample - loss: 0.0773 - accuracy: 0.9775 - precision: 0.9820 - recall: 0.9741 - val_loss: 0.0126 - val_accuracy: 0.9966 - val_precision: 0.9980 - val_recall: 0.9957\n"
     ]
    }
   ],
   "source": [
    "# Running the model\n",
    "epochs = 15\n",
    "history = model.fit(X_train, y_train, validation_data=(X_test, y_test), epochs=epochs, verbose=1)"
   ]
  },
  {
   "cell_type": "code",
   "execution_count": 11,
   "metadata": {},
   "outputs": [
    {
     "data": {
      "image/png": "[encoded data removed]",
      "text/plain": [
       "<Figure size 720x720 with 4 Axes>"
      ]
     },
     "metadata": {
      "needs_background": "light"
     },
     "output_type": "display_data"
    }
   ],
   "source": [
    "fig, axs = plt.subplots(2, 2, figsize=(10, 10))\n",
    "axs = axs.ravel()\n",
    "\n",
    "for i, met in enumerate(['accuracy', 'loss', 'precision', 'recall']):\n",
    "    axs[i].plot(history.history[met])\n",
    "    axs[i].plot(history.history['val_' + met])\n",
    "    axs[i].set_title(f'Model {met}')\n",
    "    axs[i].set_xlabel('epochs')\n",
    "    axs[i].set_ylabel(met)\n",
    "    axs[i].legend(['training', 'validation'])\n",
    "plt.tight_layout()"
   ]
  },
  {
   "cell_type": "code",
   "execution_count": 12,
   "metadata": {},
   "outputs": [
    {
     "data": {
      "text/html": [
       "<div>\n",
       "<style scoped>\n",
       "    .dataframe tbody tr th:only-of-type {\n",
       "        vertical-align: middle;\n",
       "    }\n",
       "\n",
       "    .dataframe tbody tr th {\n",
       "        vertical-align: top;\n",
       "    }\n",
       "\n",
       "    .dataframe thead th {\n",
       "        text-align: right;\n",
       "    }\n",
       "</style>\n",
       "<table border=\"1\" class=\"dataframe\">\n",
       "  <thead>\n",
       "    <tr style=\"text-align: right;\">\n",
       "      <th></th>\n",
       "      <th>Width</th>\n",
       "      <th>Height</th>\n",
       "      <th>Roi.X1</th>\n",
       "      <th>Roi.Y1</th>\n",
       "      <th>Roi.X2</th>\n",
       "      <th>Roi.Y2</th>\n",
       "      <th>ClassId</th>\n",
       "      <th>Path</th>\n",
       "    </tr>\n",
       "  </thead>\n",
       "  <tbody>\n",
       "    <tr>\n",
       "      <th>0</th>\n",
       "      <td>53</td>\n",
       "      <td>54</td>\n",
       "      <td>6</td>\n",
       "      <td>5</td>\n",
       "      <td>48</td>\n",
       "      <td>49</td>\n",
       "      <td>16</td>\n",
       "      <td>Test/00000.png</td>\n",
       "    </tr>\n",
       "    <tr>\n",
       "      <th>1</th>\n",
       "      <td>42</td>\n",
       "      <td>45</td>\n",
       "      <td>5</td>\n",
       "      <td>5</td>\n",
       "      <td>36</td>\n",
       "      <td>40</td>\n",
       "      <td>1</td>\n",
       "      <td>Test/00001.png</td>\n",
       "    </tr>\n",
       "    <tr>\n",
       "      <th>2</th>\n",
       "      <td>48</td>\n",
       "      <td>52</td>\n",
       "      <td>6</td>\n",
       "      <td>6</td>\n",
       "      <td>43</td>\n",
       "      <td>47</td>\n",
       "      <td>38</td>\n",
       "      <td>Test/00002.png</td>\n",
       "    </tr>\n",
       "    <tr>\n",
       "      <th>3</th>\n",
       "      <td>27</td>\n",
       "      <td>29</td>\n",
       "      <td>5</td>\n",
       "      <td>5</td>\n",
       "      <td>22</td>\n",
       "      <td>24</td>\n",
       "      <td>33</td>\n",
       "      <td>Test/00003.png</td>\n",
       "    </tr>\n",
       "    <tr>\n",
       "      <th>4</th>\n",
       "      <td>60</td>\n",
       "      <td>57</td>\n",
       "      <td>5</td>\n",
       "      <td>5</td>\n",
       "      <td>55</td>\n",
       "      <td>52</td>\n",
       "      <td>11</td>\n",
       "      <td>Test/00004.png</td>\n",
       "    </tr>\n",
       "  </tbody>\n",
       "</table>\n",
       "</div>"
      ],
      "text/plain": [
       "   Width  Height  Roi.X1  Roi.Y1  Roi.X2  Roi.Y2  ClassId            Path\n",
       "0     53      54       6       5      48      49       16  Test/00000.png\n",
       "1     42      45       5       5      36      40        1  Test/00001.png\n",
       "2     48      52       6       6      43      47       38  Test/00002.png\n",
       "3     27      29       5       5      22      24       33  Test/00003.png\n",
       "4     60      57       5       5      55      52       11  Test/00004.png"
      ]
     },
     "execution_count": 12,
     "metadata": {},
     "output_type": "execute_result"
    }
   ],
   "source": [
    "# read in the Test.csv file \n",
    "test_data = pd.read_csv(os.path.join(base_path, 'Test.csv'))\n",
    "test_data.head()"
   ]
  },
  {
   "cell_type": "code",
   "execution_count": 13,
   "metadata": {},
   "outputs": [
    {
     "name": "stdout",
     "output_type": "stream",
     "text": [
      "['Test/00000.png' 'Test/00001.png' 'Test/00002.png' 'Test/00003.png'\n",
      " 'Test/00004.png']\n",
      "[16  1 38 33 11]\n"
     ]
    }
   ],
   "source": [
    "# extract the 'ClassId' and image 'Path'\n",
    "image_file_path = test_data['Path'].values\n",
    "print(image_file_path[:5])\n",
    "\n",
    "test_labels = test_data['ClassId'].values\n",
    "print(test_labels[:5])"
   ]
  },
  {
   "cell_type": "code",
   "execution_count": 14,
   "metadata": {},
   "outputs": [],
   "source": [
    "# Read in the image data and normalize it\n",
    "data=[]\n",
    "\n",
    "for img in image_file_path:\n",
    "    image = Image.open(base_path + '/' + img)\n",
    "    image = image.resize((30,30))\n",
    "    data.append(np.array(image))\n",
    "X_test = np.array(data)\n",
    "X_test = X_test/255."
   ]
  },
  {
   "cell_type": "code",
   "execution_count": 15,
   "metadata": {},
   "outputs": [],
   "source": [
    "# making prediction\n",
    "prediction = model.predict_classes(X_test)"
   ]
  },
  {
   "cell_type": "code",
   "execution_count": 16,
   "metadata": {},
   "outputs": [
    {
     "name": "stdout",
     "output_type": "stream",
     "text": [
      "0.9800475059382423\n"
     ]
    }
   ],
   "source": [
    "from sklearn.metrics import accuracy_score, confusion_matrix, classification_report\n",
    "\n",
    "print(accuracy_score(test_labels, prediction))"
   ]
  },
  {
   "cell_type": "code",
   "execution_count": 17,
   "metadata": {},
   "outputs": [
    {
     "name": "stdout",
     "output_type": "stream",
     "text": [
      "              precision    recall  f1-score   support\n",
      "\n",
      "           0       1.00      1.00      1.00        60\n",
      "           1       1.00      0.99      1.00       720\n",
      "           2       0.99      0.99      0.99       750\n",
      "           3       0.99      0.97      0.98       450\n",
      "           4       0.99      0.99      0.99       660\n",
      "           5       0.97      0.98      0.98       630\n",
      "           6       0.99      0.89      0.93       150\n",
      "           7       0.99      0.99      0.99       450\n",
      "           8       0.97      0.99      0.98       450\n",
      "           9       0.98      1.00      0.99       480\n",
      "          10       0.99      0.98      0.99       660\n",
      "          11       0.99      0.96      0.97       420\n",
      "          12       1.00      0.98      0.99       690\n",
      "          13       1.00      1.00      1.00       720\n",
      "          14       1.00      1.00      1.00       270\n",
      "          15       0.97      1.00      0.98       210\n",
      "          16       0.96      0.99      0.97       150\n",
      "          17       1.00      0.93      0.96       360\n",
      "          18       0.97      0.91      0.94       390\n",
      "          19       1.00      1.00      1.00        60\n",
      "          20       0.69      1.00      0.82        90\n",
      "          21       0.99      0.99      0.99        90\n",
      "          22       1.00      0.93      0.97       120\n",
      "          23       0.97      1.00      0.99       150\n",
      "          24       0.98      0.98      0.98        90\n",
      "          25       1.00      0.97      0.98       480\n",
      "          26       0.97      0.97      0.97       180\n",
      "          27       0.67      1.00      0.80        60\n",
      "          28       1.00      0.99      1.00       150\n",
      "          29       0.98      1.00      0.99        90\n",
      "          30       0.91      0.86      0.89       150\n",
      "          31       0.97      0.99      0.98       270\n",
      "          32       1.00      1.00      1.00        60\n",
      "          33       0.91      1.00      0.95       210\n",
      "          34       1.00      1.00      1.00       120\n",
      "          35       1.00      1.00      1.00       390\n",
      "          36       1.00      0.98      0.99       120\n",
      "          37       1.00      1.00      1.00        60\n",
      "          38       0.99      0.99      0.99       690\n",
      "          39       1.00      0.93      0.97        90\n",
      "          40       0.89      0.99      0.94        90\n",
      "          41       0.96      0.88      0.92        60\n",
      "          42       0.96      1.00      0.98        90\n",
      "\n",
      "    accuracy                           0.98     12630\n",
      "   macro avg       0.97      0.98      0.97     12630\n",
      "weighted avg       0.98      0.98      0.98     12630\n",
      "\n"
     ]
    }
   ],
   "source": [
    "print(classification_report(test_labels, prediction))"
   ]
  },
  {
   "cell_type": "code",
   "execution_count": null,
   "metadata": {},
   "outputs": [],
   "source": []
  }
 ],
 "metadata": {
  "kernelspec": {
   "display_name": "Python 3",
   "language": "python",
   "name": "python3"
  },
  "language_info": {
   "codemirror_mode": {
    "name": "ipython",
    "version": 3
   },
   "file_extension": ".py",
   "mimetype": "text/x-python",
   "name": "python",
   "nbconvert_exporter": "python",
   "pygments_lexer": "ipython3",
   "version": "3.7.6"
  }
 },
 "nbformat": 4,
 "nbformat_minor": 4
}
